{
 "cells": [
  {
   "cell_type": "code",
   "execution_count": 1,
   "metadata": {},
   "outputs": [
    {
     "name": "stdout",
     "output_type": "stream",
     "text": [
      "Downloading http://yann.lecun.com/exdb/mnist/train-images-idx3-ubyte.gz\n",
      "Failed to download (trying next):\n",
      "HTTP Error 404: Not Found\n",
      "\n",
      "Downloading https://ossci-datasets.s3.amazonaws.com/mnist/train-images-idx3-ubyte.gz\n",
      "Downloading https://ossci-datasets.s3.amazonaws.com/mnist/train-images-idx3-ubyte.gz to ./data\\MNIST\\raw\\train-images-idx3-ubyte.gz\n"
     ]
    },
    {
     "name": "stderr",
     "output_type": "stream",
     "text": [
      "100%|██████████| 9912422/9912422 [00:04<00:00, 2309825.51it/s]\n"
     ]
    },
    {
     "name": "stdout",
     "output_type": "stream",
     "text": [
      "Extracting ./data\\MNIST\\raw\\train-images-idx3-ubyte.gz to ./data\\MNIST\\raw\n",
      "\n",
      "Downloading http://yann.lecun.com/exdb/mnist/train-labels-idx1-ubyte.gz\n",
      "Failed to download (trying next):\n",
      "HTTP Error 404: Not Found\n",
      "\n",
      "Downloading https://ossci-datasets.s3.amazonaws.com/mnist/train-labels-idx1-ubyte.gz\n",
      "Downloading https://ossci-datasets.s3.amazonaws.com/mnist/train-labels-idx1-ubyte.gz to ./data\\MNIST\\raw\\train-labels-idx1-ubyte.gz\n"
     ]
    },
    {
     "name": "stderr",
     "output_type": "stream",
     "text": [
      "100%|██████████| 28881/28881 [00:00<00:00, 129692.69it/s]\n"
     ]
    },
    {
     "name": "stdout",
     "output_type": "stream",
     "text": [
      "Extracting ./data\\MNIST\\raw\\train-labels-idx1-ubyte.gz to ./data\\MNIST\\raw\n",
      "\n",
      "Downloading http://yann.lecun.com/exdb/mnist/t10k-images-idx3-ubyte.gz\n",
      "Failed to download (trying next):\n",
      "HTTP Error 404: Not Found\n",
      "\n",
      "Downloading https://ossci-datasets.s3.amazonaws.com/mnist/t10k-images-idx3-ubyte.gz\n",
      "Downloading https://ossci-datasets.s3.amazonaws.com/mnist/t10k-images-idx3-ubyte.gz to ./data\\MNIST\\raw\\t10k-images-idx3-ubyte.gz\n"
     ]
    },
    {
     "name": "stderr",
     "output_type": "stream",
     "text": [
      "100%|██████████| 1648877/1648877 [00:01<00:00, 1065046.86it/s]\n"
     ]
    },
    {
     "name": "stdout",
     "output_type": "stream",
     "text": [
      "Extracting ./data\\MNIST\\raw\\t10k-images-idx3-ubyte.gz to ./data\\MNIST\\raw\n",
      "\n",
      "Downloading http://yann.lecun.com/exdb/mnist/t10k-labels-idx1-ubyte.gz\n",
      "Failed to download (trying next):\n",
      "HTTP Error 404: Not Found\n",
      "\n",
      "Downloading https://ossci-datasets.s3.amazonaws.com/mnist/t10k-labels-idx1-ubyte.gz\n",
      "Downloading https://ossci-datasets.s3.amazonaws.com/mnist/t10k-labels-idx1-ubyte.gz to ./data\\MNIST\\raw\\t10k-labels-idx1-ubyte.gz\n"
     ]
    },
    {
     "name": "stderr",
     "output_type": "stream",
     "text": [
      "100%|██████████| 4542/4542 [00:00<?, ?it/s]\n"
     ]
    },
    {
     "name": "stdout",
     "output_type": "stream",
     "text": [
      "Extracting ./data\\MNIST\\raw\\t10k-labels-idx1-ubyte.gz to ./data\\MNIST\\raw\n",
      "\n",
      "2025-03-25 15:25:09 Trainset size: 60000\n",
      "2025-03-25 15:25:09 Testset size: 10000\n",
      "2025-03-25 15:25:43 Done!\n"
     ]
    }
   ],
   "source": [
    "import os\n",
    "import cv2\n",
    "import time\n",
    "import pickle\n",
    "import numpy as np\n",
    "from torchvision.datasets import MNIST\n",
    "\n",
    "\n",
    "def get_time():\n",
    "    return time.strftime(\"%Y-%m-%d %H:%M:%S\", time.localtime(time.time()))\n",
    "\n",
    "\n",
    "def unpickle(file):\n",
    "    with open(file, \"rb\") as fo:\n",
    "        return pickle.load(fo, encoding=\"bytes\")\n",
    "\n",
    "\n",
    "trainset = MNIST(root=\"./data\", train=True, download=True)\n",
    "testset = MNIST(root=\"./data\", train=False, download=True)\n",
    "print(f\"{get_time()} Trainset size: {len(trainset)}\")\n",
    "print(f\"{get_time()} Testset size: {len(testset)}\")\n",
    "\n",
    "\n",
    "train_count = {i: 1 for i in range(10)}\n",
    "test_count = {i: 1 for i in range(10)}\n",
    "\n",
    "# trainset\n",
    "for i in range(len(trainset)):\n",
    "    img, label = trainset[i]\n",
    "    folder = f\"{label:05d}\"\n",
    "    save_dir = os.path.join(\n",
    "        \"./data/mnist/train\", folder, f\"image{train_count[label]}.jpg\"\n",
    "    )\n",
    "    os.makedirs(os.path.dirname(save_dir), exist_ok=True)\n",
    "    cv2.imwrite(save_dir, cv2.cvtColor(np.array(img), cv2.COLOR_RGB2BGR))\n",
    "    train_count[label] += 1\n",
    "\n",
    "# testset\n",
    "for i in range(len(testset)):\n",
    "    img, label = testset[i]\n",
    "    folder = f\"{label:05d}\"\n",
    "    save_dir = os.path.join(\n",
    "        \"./data/mnist/test\", folder, f\"image{test_count[label]}.jpg\"\n",
    "    )\n",
    "    os.makedirs(os.path.dirname(save_dir), exist_ok=True)\n",
    "    cv2.imwrite(save_dir, cv2.cvtColor(np.array(img), cv2.COLOR_RGB2BGR))\n",
    "    test_count[label] += 1\n",
    "\n",
    "print(f\"{get_time()} Done!\")"
   ]
  }
 ],
 "metadata": {
  "kernelspec": {
   "display_name": "wtorch",
   "language": "python",
   "name": "python3"
  },
  "language_info": {
   "codemirror_mode": {
    "name": "ipython",
    "version": 3
   },
   "file_extension": ".py",
   "mimetype": "text/x-python",
   "name": "python",
   "nbconvert_exporter": "python",
   "pygments_lexer": "ipython3",
   "version": "3.12.3"
  }
 },
 "nbformat": 4,
 "nbformat_minor": 2
}
