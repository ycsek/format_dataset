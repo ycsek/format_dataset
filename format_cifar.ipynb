{
 "cells": [
  {
   "cell_type": "code",
   "execution_count": null,
   "metadata": {},
   "outputs": [
    {
     "name": "stdout",
     "output_type": "stream",
     "text": [
      "Downloading https://www.cs.toronto.edu/~kriz/cifar-10-python.tar.gz to ./data\\cifar-10-python.tar.gz\n"
     ]
    },
    {
     "name": "stderr",
     "output_type": "stream",
     "text": [
      "100%|██████████| 170498071/170498071 [00:34<00:00, 4890694.21it/s] \n"
     ]
    },
    {
     "name": "stdout",
     "output_type": "stream",
     "text": [
      "Extracting ./data\\cifar-10-python.tar.gz to ./data\n",
      "Files already downloaded and verified\n",
      "2025-03-25 15:21:53 Trainset size: 50000\n",
      "2025-03-25 15:21:53 Testset size: 10000\n",
      "2025-03-25 15:22:20 Done!/10000\n"
     ]
    }
   ],
   "source": [
    "import os\n",
    "import cv2\n",
    "import time\n",
    "import pickle\n",
    "import numpy as np\n",
    "from torchvision.datasets import CIFAR10\n",
    "\n",
    "\n",
    "def get_time():\n",
    "    return time.strftime(\"%Y-%m-%d %H:%M:%S\", time.localtime(time.time()))\n",
    "\n",
    "\n",
    "def unpickle(file):\n",
    "    with open(file, 'rb') as fo:\n",
    "        return pickle.load(fo, encoding='bytes')\n",
    "\n",
    "trainset = CIFAR10(root=\"./data\", train=True, download=True)\n",
    "testset = CIFAR10(root=\"./data\", train=False, download=True)\n",
    "print(f\"{get_time()} Trainset size: {len(trainset)}\")\n",
    "print(f\"{get_time()} Testset size: {len(testset)}\")\n",
    "\n",
    "\n",
    "train_count = {i:1 for i in range(10)}\n",
    "test_count = {i:1 for i in range(10)}\n",
    "\n",
    "# trainset\n",
    "for i in range(len(trainset)):\n",
    "    img, label = trainset[i]\n",
    "    folder = f\"{label:05d}\"\n",
    "    save_dir = os.path.join(\"./data/cifar10/train\", folder, f\"image{train_count[label]}.jpg\")\n",
    "    os.makedirs(os.path.dirname(save_dir), exist_ok=True)\n",
    "    cv2.imwrite(save_dir, cv2.cvtColor(np.array(img), cv2.COLOR_RGB2BGR))\n",
    "    train_count[label] += 1\n",
    "\n",
    "# testset\n",
    "for i in range(len(testset)):\n",
    "    img, label = testset[i]\n",
    "    folder = f\"{label:05d}\"\n",
    "    save_dir = os.path.join(\"./data/cifar10/test\", folder, f\"image{test_count[label]}.jpg\")\n",
    "    os.makedirs(os.path.dirname(save_dir), exist_ok=True)\n",
    "    cv2.imwrite(save_dir, cv2.cvtColor(np.array(img), cv2.COLOR_RGB2BGR))\n",
    "    test_count[label] += 1\n",
    "\n",
    "print(f\"{get_time()} Done!\")"
   ]
  }
 ],
 "metadata": {
  "kernelspec": {
   "display_name": "wtorch",
   "language": "python",
   "name": "python3"
  },
  "language_info": {
   "codemirror_mode": {
    "name": "ipython",
    "version": 3
   },
   "file_extension": ".py",
   "mimetype": "text/x-python",
   "name": "python",
   "nbconvert_exporter": "python",
   "pygments_lexer": "ipython3",
   "version": "3.12.3"
  }
 },
 "nbformat": 4,
 "nbformat_minor": 2
}
